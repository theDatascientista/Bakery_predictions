{
 "cells": [
  {
   "cell_type": "code",
   "execution_count": 1,
   "id": "3941a5a0",
   "metadata": {},
   "outputs": [],
   "source": [
    "import pandas as pd\n",
    "import seaborn as sns\n",
    "import matplotlib.pyplot as plt\n",
    "import statsmodels.api as sm\n",
    "import numpy as np\n",
    "from sklearn.linear_model import Ridge\n",
    "from sklearn.metrics import mean_squared_error\n",
    "from sklearn.model_selection import cross_val_score, KFold\n",
    "from sklearn.model_selection import GridSearchCV"
   ]
  },
  {
   "cell_type": "code",
   "execution_count": 2,
   "id": "9c59fbf0",
   "metadata": {},
   "outputs": [
    {
     "name": "stdout",
     "output_type": "stream",
     "text": [
      "Train shape: (7517, 15)\n",
      "Validation shape: (1839, 15)\n",
      "Test shape: (351, 15)\n"
     ]
    },
    {
     "name": "stderr",
     "output_type": "stream",
     "text": [
      "/tmp/ipykernel_1657/959037608.py:10: FutureWarning: A value is trying to be set on a copy of a DataFrame or Series through chained assignment using an inplace method.\n",
      "The behavior will change in pandas 3.0. This inplace method will never work because the intermediate object on which we are setting values always behaves as a copy.\n",
      "\n",
      "For example, when doing 'df[col].method(value, inplace=True)', try using 'df.method({col: value}, inplace=True)' or df[col] = df[col].method(value) instead, to perform the operation inplace on the original object.\n",
      "\n",
      "\n",
      "  df['KielerWoche'].fillna(0, inplace=True)\n"
     ]
    }
   ],
   "source": [
    "#Load dataset\n",
    "#df = pd.read_csv(\"../../0_DataPreparation/initialdata/transformed_data.csv\")\n",
    "df = pd.read_csv(\"../../0_DataPreparation/initialdata/merged_data_temperature+holidays+weather_impressions.csv\")\n",
    "\n",
    "#Ensure the 'Datum' column is in datetime format\n",
    "df['Datum'] = pd.to_datetime(df['Datum'])\n",
    "df['Weekday'] = df['Datum'].dt.day_name()\n",
    "\n",
    "# replace nan with 0\n",
    "df['KielerWoche'].fillna(0, inplace=True) \n",
    "\n",
    "#Define time ranges\n",
    "train_start = '2013-07-01'\n",
    "train_end = '2017-07-31'\n",
    "val_start = '2017-08-01'\n",
    "val_end = '2018-07-31'\n",
    "test_start = '2018-08-01'\n",
    "test_end = '2019-07-30'\n",
    "\n",
    "#Split data\n",
    "train_data = df[(df['Datum'] >= train_start) & (df['Datum'] <= train_end)]\n",
    "validation_data = df[(df['Datum'] >= val_start) & (df['Datum'] <= val_end)]\n",
    "test_data = df[(df['Datum'] >= test_start) & (df['Datum'] <= test_end)]\n",
    "\n",
    "#Optional: print shapes\n",
    "print(\"Train shape:\", train_data.shape)\n",
    "print(\"Validation shape:\", validation_data.shape)\n",
    "print(\"Test shape:\", test_data.shape)"
   ]
  },
  {
   "cell_type": "markdown",
   "id": "aeeb62df",
   "metadata": {},
   "source": [
    "First Model with Warengruppe, Weekday, Temperatur and Windgeschwindigkeit"
   ]
  },
  {
   "cell_type": "code",
   "execution_count": 3,
   "id": "5450056d",
   "metadata": {},
   "outputs": [
    {
     "name": "stdout",
     "output_type": "stream",
     "text": [
      "                            OLS Regression Results                            \n",
      "==============================================================================\n",
      "Dep. Variable:                 Umsatz   R-squared:                       0.714\n",
      "Model:                            OLS   Adj. R-squared:                  0.713\n",
      "Method:                 Least Squares   F-statistic:                     1434.\n",
      "Date:                Tue, 03 Jun 2025   Prob (F-statistic):               0.00\n",
      "Time:                        08:20:17   Log-Likelihood:                -43341.\n",
      "No. Observations:                7487   AIC:                         8.671e+04\n",
      "Df Residuals:                    7473   BIC:                         8.681e+04\n",
      "Df Model:                          13                                         \n",
      "Covariance Type:            nonrobust                                         \n",
      "=======================================================================================\n",
      "                          coef    std err          t      P>|t|      [0.025      0.975]\n",
      "---------------------------------------------------------------------------------------\n",
      "const                  58.6458      4.220     13.896      0.000      50.373      66.919\n",
      "Brötchen              289.1640      2.927     98.788      0.000     283.426     294.902\n",
      "Croissant              42.7563      2.927     14.607      0.000      37.018      48.494\n",
      "Konditorei            -33.0881      2.955    -11.199      0.000     -38.880     -27.296\n",
      "Kuchen                159.5234      2.927     54.498      0.000     153.785     165.261\n",
      "Saisonbrot            -32.3941      5.606     -5.778      0.000     -43.384     -21.404\n",
      "Monday                 -1.5280      3.434     -0.445      0.656      -8.260       5.204\n",
      "Saturday               46.0356      3.440     13.381      0.000      39.292      52.780\n",
      "Sunday                 51.0541      3.441     14.836      0.000      44.308      57.800\n",
      "Thursday               -1.4889      3.442     -0.433      0.665      -8.236       5.258\n",
      "Tuesday                -7.3387      3.425     -2.142      0.032     -14.053      -0.624\n",
      "Wednesday              -7.5098      3.437     -2.185      0.029     -14.247      -0.772\n",
      "Temperatur              4.0684      0.131     30.978      0.000       3.811       4.326\n",
      "Windgeschwindigkeit     0.1468      0.220      0.667      0.505      -0.285       0.578\n",
      "==============================================================================\n",
      "Omnibus:                     7875.525   Durbin-Watson:                   1.652\n",
      "Prob(Omnibus):                  0.000   Jarque-Bera (JB):          1962783.864\n",
      "Skew:                           4.774   Prob(JB):                         0.00\n",
      "Kurtosis:                      81.744   Cond. No.                         135.\n",
      "==============================================================================\n",
      "\n",
      "Notes:\n",
      "[1] Standard Errors assume that the covariance matrix of the errors is correctly specified.\n"
     ]
    }
   ],
   "source": [
    "Y = train_data['Umsatz']\n",
    "X = sm.add_constant(\n",
    "\tpd.get_dummies(train_data['Warengruppe'], drop_first=True, dtype=int)\n",
    "\t.join(pd.get_dummies(train_data['Weekday'], drop_first=True, dtype=int))\n",
    "    .join(train_data['Temperatur'])\n",
    "    .join(train_data['Windgeschwindigkeit'])\n",
    ")\n",
    "\n",
    "# Drop rows where either X or Y is NaN\n",
    "valid_idx = Y.notna() & X.notna().all(axis=1)\n",
    "Y_clean = Y[valid_idx]\n",
    "X_clean = X[valid_idx]\n",
    "\n",
    "# change indices so that they start from 0\n",
    "Y_clean.index = range(len(Y_clean))\n",
    "X_clean.index = range(len(X_clean))\n",
    "\n",
    "# Fit the model\n",
    "model = sm.OLS(Y_clean, X_clean)\n",
    "results = model.fit()\n",
    "\n",
    "print(results.summary())"
   ]
  },
  {
   "cell_type": "code",
   "execution_count": 4,
   "id": "31541dea",
   "metadata": {},
   "outputs": [
    {
     "name": "stdout",
     "output_type": "stream",
     "text": [
      "Table (Head) to compare predicted and actual values:\n",
      "     Predicted  Actual   Residuals\n",
      "0  131.899883  148.83   16.930117\n",
      "1  421.063894  535.86  114.796106\n",
      "2  174.656194  201.20   26.543806\n",
      "3   98.811799   65.89  -32.921799\n",
      "4  291.423305  317.48   26.056695\n"
     ]
    }
   ],
   "source": [
    "predicted = results.predict(X_clean)\n",
    "actual = Y_clean\n",
    "residuals = actual - predicted\n",
    "\n",
    "comparison_df = pd.DataFrame({\n",
    "    'Predicted': predicted,\n",
    "    'Actual': actual,\n",
    "    'Residuals': residuals\n",
    "})\n",
    "\n",
    "print(\"Table (Head) to compare predicted and actual values:\\n\", comparison_df.head())"
   ]
  },
  {
   "cell_type": "markdown",
   "id": "a9387f04",
   "metadata": {},
   "source": [
    "Second Model with additionally Is_Holiday, KielerWoche"
   ]
  },
  {
   "cell_type": "code",
   "execution_count": 5,
   "id": "89e2c2d7",
   "metadata": {},
   "outputs": [],
   "source": [
    "Y = train_data['Umsatz']\n",
    "X = sm.add_constant(\n",
    "\tpd.get_dummies(train_data['Warengruppe'], drop_first=True, dtype=int)\n",
    "\t.join(pd.get_dummies(train_data['Weekday'], drop_first=True, dtype=int))\n",
    "    .join(train_data['Temperatur'])\n",
    "    .join(train_data['Windgeschwindigkeit'])\n",
    "    .join(train_data['Is_Holiday'])\n",
    "    .join(train_data['KielerWoche'])\n",
    ")\n",
    "\n",
    "# Drop rows where either X or Y is NaN\n",
    "valid_idx = Y.notna() & X.notna().all(axis=1)\n",
    "Y_clean = Y[valid_idx]\n",
    "X_clean = X[valid_idx]\n",
    "\n",
    "# change indices so that they start from 0\n",
    "Y_clean.index = range(len(Y_clean))\n",
    "X_clean.index = range(len(X_clean))\n",
    "\n",
    "# Ensure all column names are strings for sklearn compatibility\n",
    "X_clean.columns = X_clean.columns.astype(str)"
   ]
  },
  {
   "cell_type": "code",
   "execution_count": 6,
   "id": "52e7a7db",
   "metadata": {},
   "outputs": [
    {
     "name": "stdout",
     "output_type": "stream",
     "text": [
      "Alpha: 0.01, Validation MSE: 5103.42\n",
      "Alpha: 0.1, Validation MSE: 5102.98\n",
      "Alpha: 1, Validation MSE: 5098.64\n",
      "Alpha: 10, Validation MSE: 5059.21\n",
      "Alpha: 100, Validation MSE: 4901.32\n",
      "Best alpha (0.01) train R^2: 0.716\n",
      "Best alpha (0.01) validation R^2: 0.699\n"
     ]
    }
   ],
   "source": [
    "# Prepare validation features (same preprocessing as training)\n",
    "Y_val = validation_data['Umsatz']\n",
    "X_val = sm.add_constant(\n",
    "    pd.get_dummies(validation_data['Warengruppe'], drop_first=True, dtype=int)\n",
    "    .join(pd.get_dummies(validation_data['Weekday'], drop_first=True, dtype=int))\n",
    "    .join(validation_data['Temperatur'])\n",
    "    .join(validation_data['Windgeschwindigkeit'])\n",
    "    .join(validation_data['Is_Holiday'])\n",
    "    .join(validation_data['KielerWoche'])\n",
    ")\n",
    "\n",
    "# Ensure columns match training data\n",
    "for col in X_clean.columns:\n",
    "    if col not in X_val.columns:\n",
    "        X_val[col] = 0\n",
    "X_val = X_val[X_clean.columns]\n",
    "\n",
    "# Drop NaNs\n",
    "valid_idx = Y_val.notna() & X_val.notna().all(axis=1)\n",
    "Y_val_clean = Y_val[valid_idx]\n",
    "X_val_clean = X_val[valid_idx]\n",
    "\n",
    "# Tune Ridge alpha using validation set\n",
    "alphas = [0.01, 0.1, 1, 10, 100]\n",
    "for alpha in alphas:\n",
    "    ridge = Ridge(alpha=alpha)\n",
    "    ridge.fit(X_clean, Y_clean)\n",
    "    preds_val = ridge.predict(X_val_clean)\n",
    "    mse = mean_squared_error(Y_val_clean, preds_val)\n",
    "    print(f\"Alpha: {alpha}, Validation MSE: {mse:.2f}\")\n",
    "\n",
    "# Optionally, pick the best alpha and retrain on full training data\n",
    "best_alpha = alphas[np.argmin(mse)]\n",
    "ridge_best = Ridge(alpha=best_alpha)\n",
    "ridge_best.fit(X_clean, Y_clean)\n",
    "print(f\"Best alpha ({best_alpha}) train R^2: {ridge_best.score(X_clean, Y_clean):.3f}\")\n",
    "print(f\"Best alpha ({best_alpha}) validation R^2: {ridge_best.score(X_val_clean, Y_val_clean):.3f}\")"
   ]
  },
  {
   "cell_type": "code",
   "execution_count": 7,
   "id": "28c7060b",
   "metadata": {},
   "outputs": [
    {
     "name": "stdout",
     "output_type": "stream",
     "text": [
      "Cross-validated MSE: 6224.83 ± 2074.10\n",
      "Best alpha: 1\n",
      "Best cross-validated MSE: 6224.83\n"
     ]
    }
   ],
   "source": [
    "# Cross-validate the model\n",
    "\n",
    "# Define the model\n",
    "ridge = Ridge(alpha=1.0)\n",
    "\n",
    "# Define cross-validation strategy (e.g., 5-fold)\n",
    "cv = KFold(n_splits=5, shuffle=True, random_state=42)\n",
    "\n",
    "# Compute cross-validated scores (negative MSE, so take -mean to get MSE)\n",
    "scores = cross_val_score(ridge, X_clean, Y_clean, cv=cv, scoring='neg_mean_squared_error')\n",
    "mean_mse = -np.mean(scores)\n",
    "std_mse = np.std(scores)\n",
    "\n",
    "print(f\"Cross-validated MSE: {mean_mse:.2f} ± {std_mse:.2f}\")\n",
    "\n",
    "# tune alpha with cross-validation:\n",
    "alphas = [0.01, 0.1, 1, 10, 100]\n",
    "ridge_cv = GridSearchCV(Ridge(), param_grid={'alpha': alphas}, cv=cv, scoring='neg_mean_squared_error')\n",
    "ridge_cv.fit(X_clean, Y_clean)\n",
    "print(f\"Best alpha: {ridge_cv.best_params_['alpha']}\")\n",
    "print(f\"Best cross-validated MSE: {-ridge_cv.best_score_:.2f}\")"
   ]
  },
  {
   "cell_type": "code",
   "execution_count": 8,
   "id": "582df60e",
   "metadata": {},
   "outputs": [
    {
     "name": "stdout",
     "output_type": "stream",
     "text": [
      "0.7161733065226852\n"
     ]
    }
   ],
   "source": [
    "# Fit the model\n",
    "#model = sm.OLS(Y_clean, X_clean)\n",
    "#results = model.fit()\n",
    "#print(results.summary())\n",
    "\n",
    "ridge = Ridge(alpha=1.0)\n",
    "ridge.fit(X_clean, Y_clean)\n",
    "print(ridge.score(X_clean, Y_clean))"
   ]
  },
  {
   "cell_type": "code",
   "execution_count": 9,
   "id": "c57db4e9",
   "metadata": {},
   "outputs": [
    {
     "name": "stdout",
     "output_type": "stream",
     "text": [
      "Table (Head) to compare predicted and actual values:\n",
      "     Predicted  Actual   Residuals\n",
      "0  128.400541  148.83   20.429459\n",
      "1  417.559652  535.86  118.300348\n",
      "2  171.153638  201.20   30.046362\n",
      "3   95.288915   65.89  -29.398915\n",
      "4  287.919951  317.48   29.560049\n"
     ]
    }
   ],
   "source": [
    "predicted = ridge_best.predict(X_clean)\n",
    "actual = Y_clean\n",
    "residuals = actual - predicted\n",
    "\n",
    "comparison_df = pd.DataFrame({\n",
    "    'Predicted': predicted,\n",
    "    'Actual': actual,\n",
    "    'Residuals': residuals\n",
    "})\n",
    "\n",
    "print(\"Table (Head) to compare predicted and actual values:\\n\", comparison_df.head())"
   ]
  },
  {
   "cell_type": "code",
   "execution_count": 10,
   "id": "4bb6783b",
   "metadata": {},
   "outputs": [
    {
     "name": "stdout",
     "output_type": "stream",
     "text": [
      "        id       Datum  Warengruppe\n",
      "0  1808011  2018-08-01            1\n",
      "1  1808021  2018-08-02            1\n",
      "2  1808031  2018-08-03            1\n",
      "3  1808041  2018-08-04            1\n",
      "4  1808051  2018-08-05            1\n",
      "2018-08-01\n",
      "2019-07-30\n",
      "(1830, 3)\n"
     ]
    }
   ],
   "source": [
    "# Load the test data\n",
    "test_data = pd.read_csv(\"../Linear_regression_Lukas/test.csv\")\n",
    "print(test_data.head())\n",
    "print(test_data['Datum'].min())\n",
    "print(test_data['Datum'].max())\n",
    "print(test_data.shape)"
   ]
  },
  {
   "cell_type": "code",
   "execution_count": 11,
   "id": "429f1dad",
   "metadata": {},
   "outputs": [],
   "source": [
    "# Ensure the 'Datum' column is in datetime format and extract the weekday\n",
    "test_data['Datum'] = pd.to_datetime(test_data['Datum'])\n",
    "test_data['Weekday'] = test_data['Datum'].dt.day_name()"
   ]
  },
  {
   "cell_type": "code",
   "execution_count": 12,
   "id": "5915e85f",
   "metadata": {},
   "outputs": [],
   "source": [
    "# extract features from original data to add to test data \n",
    "features = df[['Datum', 'Temperatur', 'Windgeschwindigkeit', 'Is_Holiday', 'KielerWoche']]\n",
    "# Merge by 'Datum'\n",
    "test_data = test_data.merge(features, on='Datum', how='left')\n"
   ]
  },
  {
   "cell_type": "code",
   "execution_count": 13,
   "id": "540614bf",
   "metadata": {},
   "outputs": [],
   "source": [
    "# make csv file with test_data\n",
    "test_data.to_csv(\"test_data_with_nan.csv\", index=True)"
   ]
  },
  {
   "cell_type": "code",
   "execution_count": 16,
   "id": "9ee8f467",
   "metadata": {},
   "outputs": [
    {
     "name": "stdout",
     "output_type": "stream",
     "text": [
      "NaN values in test_data:\n",
      " id                      0\n",
      "Datum                   0\n",
      "Warengruppe             0\n",
      "Weekday                 0\n",
      "Temperatur             65\n",
      "Windgeschwindigkeit    65\n",
      "Is_Holiday             65\n",
      "KielerWoche            65\n",
      "dtype: int64\n",
      "<DatetimeArray>\n",
      "['2018-09-08 00:00:00', '2018-09-09 00:00:00', '2018-09-15 00:00:00',\n",
      " '2018-09-16 00:00:00', '2018-09-17 00:00:00', '2018-09-18 00:00:00',\n",
      " '2018-09-19 00:00:00', '2018-09-20 00:00:00', '2018-10-13 00:00:00',\n",
      " '2018-10-14 00:00:00', '2018-10-20 00:00:00', '2018-10-21 00:00:00',\n",
      " '2019-04-04 00:00:00']\n",
      "Length: 13, dtype: datetime64[ns]\n"
     ]
    }
   ],
   "source": [
    "print(\"NaN values in test_data:\\n\", test_data.isna().sum())\n",
    "missing_dates = test_data[test_data['Temperatur'].isna()]['Datum']\n",
    "print(missing_dates.unique())\n",
    "\n",
    "# drop rows with NaN values\n",
    "#test_data.dropna(subset=['Temperatur', 'Windgeschwindigkeit', 'Is_Holiday', 'KielerWoche'], inplace=True)\n",
    "#print(\"NaN values in test_data after dropping:\\n\", test_data.isna().sum())"
   ]
  },
  {
   "cell_type": "code",
   "execution_count": 17,
   "id": "8b5506dd",
   "metadata": {},
   "outputs": [
    {
     "name": "stderr",
     "output_type": "stream",
     "text": [
      "/tmp/ipykernel_1657/3858205544.py:2: FutureWarning: A value is trying to be set on a copy of a DataFrame or Series through chained assignment using an inplace method.\n",
      "The behavior will change in pandas 3.0. This inplace method will never work because the intermediate object on which we are setting values always behaves as a copy.\n",
      "\n",
      "For example, when doing 'df[col].method(value, inplace=True)', try using 'df.method({col: value}, inplace=True)' or df[col] = df[col].method(value) instead, to perform the operation inplace on the original object.\n",
      "\n",
      "\n",
      "  test_data['Is_Holiday'].fillna(0, inplace=True)\n",
      "/tmp/ipykernel_1657/3858205544.py:3: FutureWarning: A value is trying to be set on a copy of a DataFrame or Series through chained assignment using an inplace method.\n",
      "The behavior will change in pandas 3.0. This inplace method will never work because the intermediate object on which we are setting values always behaves as a copy.\n",
      "\n",
      "For example, when doing 'df[col].method(value, inplace=True)', try using 'df.method({col: value}, inplace=True)' or df[col] = df[col].method(value) instead, to perform the operation inplace on the original object.\n",
      "\n",
      "\n",
      "  test_data['KielerWoche'].fillna(0, inplace=True)\n",
      "/tmp/ipykernel_1657/3858205544.py:6: FutureWarning: A value is trying to be set on a copy of a DataFrame or Series through chained assignment using an inplace method.\n",
      "The behavior will change in pandas 3.0. This inplace method will never work because the intermediate object on which we are setting values always behaves as a copy.\n",
      "\n",
      "For example, when doing 'df[col].method(value, inplace=True)', try using 'df.method({col: value}, inplace=True)' or df[col] = df[col].method(value) instead, to perform the operation inplace on the original object.\n",
      "\n",
      "\n",
      "  test_data['Temperatur'].fillna(test_data['Temperatur'].mean(), inplace=True)\n",
      "/tmp/ipykernel_1657/3858205544.py:7: FutureWarning: A value is trying to be set on a copy of a DataFrame or Series through chained assignment using an inplace method.\n",
      "The behavior will change in pandas 3.0. This inplace method will never work because the intermediate object on which we are setting values always behaves as a copy.\n",
      "\n",
      "For example, when doing 'df[col].method(value, inplace=True)', try using 'df.method({col: value}, inplace=True)' or df[col] = df[col].method(value) instead, to perform the operation inplace on the original object.\n",
      "\n",
      "\n",
      "  test_data['Windgeschwindigkeit'].fillna(test_data['Windgeschwindigkeit'].mean(), inplace=True)\n"
     ]
    }
   ],
   "source": [
    "# dates with nan values are no holidays, no kiwo\n",
    "test_data['Is_Holiday'].fillna(0, inplace=True)\n",
    "test_data['KielerWoche'].fillna(0, inplace=True)\n",
    "\n",
    "# for temperature and wind speed, fill with mean\n",
    "test_data['Temperatur'].fillna(test_data['Temperatur'].mean(), inplace=True)\n",
    "test_data['Windgeschwindigkeit'].fillna(test_data['Windgeschwindigkeit'].mean(), inplace=True)"
   ]
  },
  {
   "cell_type": "code",
   "execution_count": 18,
   "id": "5a9b49e1",
   "metadata": {},
   "outputs": [
    {
     "name": "stdout",
     "output_type": "stream",
     "text": [
      "   const  Brötchen  Croissant  Konditorei  Kuchen  Saisonbrot  Monday  \\\n",
      "0    1.0         0          0           0       0           0       0   \n",
      "1    1.0         0          0           0       0           0       0   \n",
      "2    1.0         0          0           0       0           0       0   \n",
      "3    1.0         0          0           0       0           0       0   \n",
      "4    1.0         0          0           0       0           0       0   \n",
      "\n",
      "   Saturday  Sunday  Thursday  Tuesday  Wednesday  Temperatur  \\\n",
      "0         0       0         0        0          0       23.76   \n",
      "1         0       0         0        0          0       26.19   \n",
      "2         0       0         0        0          0       27.66   \n",
      "3         0       0         0        0          0       25.14   \n",
      "4         0       0         0        0          0       21.30   \n",
      "\n",
      "   Windgeschwindigkeit  Is_Holiday  KielerWoche  \n",
      "0                 10.0         0.0          0.0  \n",
      "1                 10.0         0.0          0.0  \n",
      "2                 10.0         0.0          0.0  \n",
      "3                 12.0         0.0          0.0  \n",
      "4                 14.0         0.0          0.0  \n",
      "NaN values in X_test:\n",
      " const                  0\n",
      "Brötchen               0\n",
      "Croissant              0\n",
      "Konditorei             0\n",
      "Kuchen                 0\n",
      "Saisonbrot             0\n",
      "Monday                 0\n",
      "Saturday               0\n",
      "Sunday                 0\n",
      "Thursday               0\n",
      "Tuesday                0\n",
      "Wednesday              0\n",
      "Temperatur             0\n",
      "Windgeschwindigkeit    0\n",
      "Is_Holiday             0\n",
      "KielerWoche            0\n",
      "dtype: int64\n"
     ]
    }
   ],
   "source": [
    "# Create dummy variables for the test data\n",
    "X_test = pd.get_dummies(test_data[['Warengruppe', 'Weekday']], drop_first=True, dtype=int)\n",
    "X_test = X_test.join(test_data[['Temperatur', 'Windgeschwindigkeit', 'Is_Holiday', 'KielerWoche']])\n",
    "X_test = sm.add_constant(X_test)  # Für das Interzept\n",
    "\n",
    "# Ensure that the test data has the same columns as the training data\n",
    "for col in X_clean.columns:\n",
    "    if col not in X_test.columns:\n",
    "        X_test[col] = 0\n",
    "\n",
    "# Ensure the order of columns matches the training data\n",
    "X_test = X_test[X_clean.columns]\n",
    "\n",
    "print(X_test.head())\n",
    "# show where x_test has NaN values\n",
    "print(\"NaN values in X_test:\\n\", X_test.isna().sum())\n",
    "\n",
    "# predict with the model that matches the features (Ridge regression)\n",
    "preds = ridge_best.predict(X_test)\n",
    "\n"
   ]
  },
  {
   "cell_type": "code",
   "execution_count": 19,
   "id": "a2dfb6be",
   "metadata": {},
   "outputs": [
    {
     "name": "stdout",
     "output_type": "stream",
     "text": [
      "        id      Datum  Warengruppe    Weekday  Temperatur  \\\n",
      "0  1808011 2018-08-01            1  Wednesday       23.76   \n",
      "1  1808021 2018-08-02            1   Thursday       26.19   \n",
      "2  1808031 2018-08-03            1     Friday       27.66   \n",
      "3  1808041 2018-08-04            1   Saturday       25.14   \n",
      "4  1808051 2018-08-05            1     Sunday       21.30   \n",
      "\n",
      "   Windgeschwindigkeit  Is_Holiday  KielerWoche  \n",
      "0                 10.0         0.0          0.0  \n",
      "1                 10.0         0.0          0.0  \n",
      "2                 10.0         0.0          0.0  \n",
      "3                 12.0         0.0          0.0  \n",
      "4                 14.0         0.0          0.0  \n"
     ]
    }
   ],
   "source": [
    "print(test_data.head())"
   ]
  },
  {
   "cell_type": "code",
   "execution_count": 20,
   "id": "280ba44d",
   "metadata": {},
   "outputs": [
    {
     "name": "stdout",
     "output_type": "stream",
     "text": [
      "Submission file created\n"
     ]
    }
   ],
   "source": [
    "# create submission DataFrame\n",
    "submission = pd.DataFrame({\n",
    "    'id': test_data['id'],\n",
    "    'Umsatz': preds\n",
    "})\n",
    "\n",
    "submission.to_csv(\"sub2.csv\", index=False)\n",
    "print(\"Submission file created\")"
   ]
  },
  {
   "cell_type": "markdown",
   "id": "3d067c1c",
   "metadata": {},
   "source": [
    "Plot"
   ]
  },
  {
   "cell_type": "code",
   "execution_count": 21,
   "id": "aa5b7ae0",
   "metadata": {},
   "outputs": [
    {
     "data": {
      "text/plain": [
       "[<matplotlib.lines.Line2D at 0x7df9fb587ec0>]"
      ]
     },
     "execution_count": 21,
     "metadata": {},
     "output_type": "execute_result"
    },
    {
     "data": {
      "image/png": "[encoded data removed]",
      "text/plain": [
       "<Figure size 640x480 with 1 Axes>"
      ]
     },
     "metadata": {},
     "output_type": "display_data"
    }
   ],
   "source": [
    "# Plotting the predicted vs actual values\n",
    "sns.regplot(x=predicted, y=actual, line_kws={\"color\": \"red\"})\n",
    "plt.xlabel('Predicted Values')\n",
    "plt.ylabel('Actual Values')\n",
    "plt.grid(alpha=0.7, linestyle='--')\n",
    "# adding the perfect y=x line\n",
    "min = actual.min()\n",
    "max = 600\n",
    "plt.plot([min, max], [min, max], color='black', linestyle='--')"
   ]
  },
  {
   "cell_type": "code",
   "execution_count": null,
   "id": "c171e7a2",
   "metadata": {},
   "outputs": [],
   "source": []
  },
  {
   "cell_type": "code",
   "execution_count": null,
   "id": "9d1d8638",
   "metadata": {},
   "outputs": [],
   "source": []
  }
 ],
 "metadata": {
  "kernelspec": {
   "display_name": "Python 3",
   "language": "python",
   "name": "python3"
  },
  "language_info": {
   "codemirror_mode": {
    "name": "ipython",
    "version": 3
   },
   "file_extension": ".py",
   "mimetype": "text/x-python",
   "name": "python",
   "nbconvert_exporter": "python",
   "pygments_lexer": "ipython3",
   "version": "3.12.1"
  }
 },
 "nbformat": 4,
 "nbformat_minor": 5
}
